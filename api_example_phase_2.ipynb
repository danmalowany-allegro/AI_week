{
 "cells": [
  {
   "cell_type": "code",
   "execution_count": 1,
   "metadata": {},
   "outputs": [],
   "source": [
    "import random\n",
    "import pandas\n",
    "from trains import Task"
   ]
  },
  {
   "cell_type": "code",
   "execution_count": 2,
   "metadata": {},
   "outputs": [],
   "source": [
    "def random_search(number_of_tasks, hyperparameter_search_range, orig_task, queue_name):\n",
    "    new_tasks_ids = []\n",
    "    for n in range(number_of_tasks):\n",
    "        new_params = get_random_params_from_range(hyperparameter_search_range)\n",
    "        new_task = clone_task_and_change_params(orig_task, new_params)\n",
    "        Task.enqueue(new_task, queue_name=queue_name)\n",
    "        new_tasks_ids.append(new_task.id)\n",
    "    return new_tasks_ids\n",
    "\n",
    "\n",
    "def clone_task_and_change_params(orig_task, update_params):\n",
    "    new_params = get_updated_task_params(orig_task, update_params)\n",
    "    new_name = new_name_from_params(orig_task.name, update_params)\n",
    "    cloned_task = Task.clone(orig_task, name=new_name)\n",
    "    cloned_task.set_parameters(new_params)\n",
    "    return cloned_task\n",
    "\n",
    "\n",
    "def get_updated_task_params(orig_task, update_params):\n",
    "    new_params = orig_task.get_parameters()\n",
    "    for key, value in update_params.items():\n",
    "        new_params[key] = value\n",
    "    return new_params"
   ]
  },
  {
   "cell_type": "code",
   "execution_count": 3,
   "metadata": {},
   "outputs": [],
   "source": [
    "def get_random_params_from_range(hyperparameter_search_range):\n",
    "    new_params = {}\n",
    "    for key, range in hyperparameter_search_range.items():\n",
    "        if all([type(x) is int for x in range]):\n",
    "            new_params[key] = random.randint(range[0], range[1])\n",
    "        else:\n",
    "            new_params[key] = random.uniform(range[0], range[1])\n",
    "    return new_params\n",
    "\n",
    "\n",
    "def new_name_from_params(orig_name, new_params):\n",
    "    new_task_name = orig_name + ' with'\n",
    "    for key, value in new_params.items():\n",
    "        if type(value) is int:\n",
    "            new_task_name += ' {}={}'.format(key, value)\n",
    "        else:\n",
    "            new_task_name += ' {}={:.5f}'.format(key, value)\n",
    "    return new_task_name"
   ]
  },
  {
   "cell_type": "code",
   "execution_count": 6,
   "metadata": {},
   "outputs": [
    {
     "name": "stdout",
     "output_type": "stream",
     "text": [
      "TRAINS Task: created new task id=f0d2d21bb3cc4373a3074a5426361b9a\n",
      "TRAINS results page: https://demoapp.trainsai.io/projects/f30b6619cdb2470ebde62a76c5b0089b/experiments/f0d2d21bb3cc4373a3074a5426361b9a/output/log\n",
      "TRAINS Monitor: GPU monitoring failed getting GPU reading, switching off GPU monitoring\n"
     ]
    }
   ],
   "source": [
    "task = Task.init(project_name='TensorFlow 2 example', task_name='Hyperparameter search example - phase 2')"
   ]
  },
  {
   "cell_type": "code",
   "execution_count": 7,
   "metadata": {},
   "outputs": [],
   "source": [
    "hyperparameter_search_range = {'learning_rate': [0.1, 0.0001], 'batch_size': [2, 32]}\n",
    "number_of_tasks = 9\n",
    "queue_name = 'dan_pc'\n",
    "orig_task = Task.get_task(project_name='TensorFlow 2 example',\n",
    "                          task_name='TensorFlow 2 quickstart for experts - danmalowanysMBP')\n",
    "\n",
    "new_tasks_ids = random_search(number_of_tasks=number_of_tasks,\n",
    "                              hyperparameter_search_range=hyperparameter_search_range,\n",
    "                              orig_task=orig_task, queue_name=queue_name)"
   ]
  },
  {
   "cell_type": "code",
   "execution_count": 8,
   "metadata": {},
   "outputs": [
    {
     "data": {
      "text/plain": [
       "True"
      ]
     },
     "execution_count": 8,
     "metadata": {},
     "output_type": "execute_result"
    },
    {
     "name": "stdout",
     "output_type": "stream",
     "text": [
      "TRAINS Monitor: Could not detect iteration reporting, falling back to iterations as seconds-from-start\n"
     ]
    }
   ],
   "source": [
    "df_Obj = pandas.DataFrame(data=new_tasks_ids, columns=['Task ID']) \n",
    "task.upload_artifact(name='children tasks', artifact_object=df_Obj, metadata=hyperparameter_search_range)"
   ]
  },
  {
   "cell_type": "code",
   "execution_count": null,
   "metadata": {},
   "outputs": [],
   "source": []
  }
 ],
 "metadata": {
  "kernelspec": {
   "display_name": "Python 3",
   "language": "python",
   "name": "python3"
  },
  "language_info": {
   "codemirror_mode": {
    "name": "ipython",
    "version": 3
   },
   "file_extension": ".py",
   "mimetype": "text/x-python",
   "name": "python",
   "nbconvert_exporter": "python",
   "pygments_lexer": "ipython3",
   "version": "3.6.7"
  }
 },
 "nbformat": 4,
 "nbformat_minor": 2
}
