{
 "cells": [
  {
   "cell_type": "code",
   "execution_count": 1,
   "metadata": {},
   "outputs": [],
   "source": [
    "import time\n",
    "import attr\n",
    "import pandas\n",
    "\n",
    "from trains import Task, Logger"
   ]
  },
  {
   "cell_type": "code",
   "execution_count": 2,
   "metadata": {},
   "outputs": [],
   "source": [
    "@attr.s(auto_attribs=True)\n",
    "class TasksMonitor(object):\n",
    "    tasks_to_monitor: list\n",
    "    wait_time: int = 30\n",
    "    logger: Logger = None\n",
    "    hyperparameters: dict = None\n",
    "\n",
    "    def __attrs_post_init__(self):\n",
    "        self._axis: list = list(self.hyperparameters.keys())\n",
    "        self._stop: bool = False\n",
    "        self._finished_tasks: list = []\n",
    "        self._hyperparameter_values: list = []\n",
    "        self.logger = None if len(self._axis) != 2 else self.logger\n",
    "\n",
    "    def wait_for_tasks_to_finish(self):\n",
    "        while not self._stop:\n",
    "            print('Current tasks status:')\n",
    "            for new_task_id in self.tasks_to_monitor:\n",
    "                if new_task_id in self._finished_tasks:\n",
    "                    continue\n",
    "                curr_task = Task.get_task(task_id=new_task_id)\n",
    "                if curr_task.status in ['completed', 'stopped']:\n",
    "                    self._finished_tasks.append(new_task_id)\n",
    "                    self.prepare_report_from_results(curr_task)\n",
    "                    if self.logger is not None:\n",
    "                        self.logger.report_scatter3d(title='Results', series='test accuracy',\n",
    "                                                     scatter=self._hyperparameter_values,\n",
    "                                                     iteration=len(self._hyperparameter_values),\n",
    "                                                     xaxis=self._axis[0], yaxis=self._axis[1], zaxis='test_accuracy')\n",
    "                else:\n",
    "                    print('Task \"{}\" status is \"{}\"'.format(curr_task.name, curr_task.status))\n",
    "            print('{} tasks are in status \"completed\"'.format(len(self._finished_tasks)))\n",
    "\n",
    "            self.stop() if len(self._finished_tasks) == len(self.tasks_to_monitor) else time.sleep(self.wait_time)\n",
    "\n",
    "    def prepare_report_from_results(self, curr_task):\n",
    "        result = curr_task.get_last_scalar_metrics()['accuracy']['test_accuracy']['last']\n",
    "        curr_params = curr_task.get_parameters()\n",
    "        curr_result_point = [curr_params[param_name] for param_name in self._axis]\n",
    "        curr_result_point.append(result)\n",
    "        self._hyperparameter_values.append(curr_result_point)\n",
    "\n",
    "    def stop(self):\n",
    "        self._stop = True\n",
    "\n",
    "    def get_best_models(self, num_models=1):\n",
    "        sorted_tasks = sorted([*zip(self._hyperparameter_values, self._finished_tasks)], key=lambda x: x[0][-1],\n",
    "                              reverse=True)\n",
    "        chosen_tasks = [{'task_id': task, 'result': params[-1], 'params_values': params[:-1],\n",
    "                         'params_keys': self._axis}\n",
    "                        for params, task in sorted_tasks[:num_models]]\n",
    "        return chosen_tasks"
   ]
  },
  {
   "cell_type": "code",
   "execution_count": 3,
   "metadata": {},
   "outputs": [
    {
     "name": "stdout",
     "output_type": "stream",
     "text": [
      "TRAINS Task: created new task id=df6ffe76db0249f6b337638acf02c41a\n",
      "TRAINS results page: https://demoapp.trainsai.io/projects/f30b6619cdb2470ebde62a76c5b0089b/experiments/df6ffe76db0249f6b337638acf02c41a/output/log\n"
     ]
    }
   ],
   "source": [
    "task = Task.init(project_name='TensorFlow 2 example', task_name='Hyperparameter search example - phase 3')"
   ]
  },
  {
   "cell_type": "code",
   "execution_count": 4,
   "metadata": {},
   "outputs": [
    {
     "name": "stdout",
     "output_type": "stream",
     "text": [
      "TRAINS Monitor: GPU monitoring failed getting GPU reading, switching off GPU monitoring\n"
     ]
    }
   ],
   "source": [
    "orig_task = Task.get_task(project_name='TensorFlow 2 example', task_name='Hyperparameter search example - phase 2')\n",
    "artifact = orig_task.artifacts.get('children tasks')\n",
    "df_Obj = artifact.get()\n",
    "tasks_ids = df_Obj.get('Task ID').values"
   ]
  },
  {
   "cell_type": "code",
   "execution_count": 5,
   "metadata": {},
   "outputs": [
    {
     "name": "stdout",
     "output_type": "stream",
     "text": [
      "Current tasks status:\n",
      "Task \"TensorFlow 2 quickstart for experts - danmalowanysMBP with learning_rate=0.07953 batch_size=23\" status is \"in_progress\"\n",
      "Task \"TensorFlow 2 quickstart for experts - danmalowanysMBP with learning_rate=0.01370 batch_size=13\" status is \"queued\"\n",
      "7 tasks are in status \"completed\"\n",
      "Current tasks status:\n",
      "Task \"TensorFlow 2 quickstart for experts - danmalowanysMBP with learning_rate=0.07953 batch_size=23\" status is \"in_progress\"\n",
      "Task \"TensorFlow 2 quickstart for experts - danmalowanysMBP with learning_rate=0.01370 batch_size=13\" status is \"queued\"\n",
      "7 tasks are in status \"completed\"\n",
      "Current tasks status:\n",
      "Task \"TensorFlow 2 quickstart for experts - danmalowanysMBP with learning_rate=0.07953 batch_size=23\" status is \"in_progress\"\n",
      "Task \"TensorFlow 2 quickstart for experts - danmalowanysMBP with learning_rate=0.01370 batch_size=13\" status is \"queued\"\n",
      "7 tasks are in status \"completed\"\n",
      "Current tasks status:\n",
      "Task \"TensorFlow 2 quickstart for experts - danmalowanysMBP with learning_rate=0.01370 batch_size=13\" status is \"in_progress\"\n",
      "8 tasks are in status \"completed\"\n",
      "Current tasks status:\n",
      "Task \"TensorFlow 2 quickstart for experts - danmalowanysMBP with learning_rate=0.01370 batch_size=13\" status is \"in_progress\"\n",
      "8 tasks are in status \"completed\"\n",
      "Current tasks status:\n",
      "Task \"TensorFlow 2 quickstart for experts - danmalowanysMBP with learning_rate=0.01370 batch_size=13\" status is \"in_progress\"\n",
      "8 tasks are in status \"completed\"\n",
      "Current tasks status:\n",
      "Task \"TensorFlow 2 quickstart for experts - danmalowanysMBP with learning_rate=0.01370 batch_size=13\" status is \"in_progress\"\n",
      "8 tasks are in status \"completed\"\n",
      "Current tasks status:\n",
      "Task \"TensorFlow 2 quickstart for experts - danmalowanysMBP with learning_rate=0.01370 batch_size=13\" status is \"in_progress\"\n",
      "8 tasks are in status \"completed\"\n",
      "Current tasks status:\n",
      "Task \"TensorFlow 2 quickstart for experts - danmalowanysMBP with learning_rate=0.01370 batch_size=13\" status is \"in_progress\"\n",
      "8 tasks are in status \"completed\"\n",
      "Current tasks status:\n",
      "Task \"TensorFlow 2 quickstart for experts - danmalowanysMBP with learning_rate=0.01370 batch_size=13\" status is \"in_progress\"\n",
      "8 tasks are in status \"completed\"\n",
      "Current tasks status:\n",
      "Task \"TensorFlow 2 quickstart for experts - danmalowanysMBP with learning_rate=0.01370 batch_size=13\" status is \"in_progress\"\n",
      "8 tasks are in status \"completed\"\n",
      "Current tasks status:\n",
      "Task \"TensorFlow 2 quickstart for experts - danmalowanysMBP with learning_rate=0.01370 batch_size=13\" status is \"in_progress\"\n",
      "8 tasks are in status \"completed\"\n",
      "Current tasks status:\n",
      "Task \"TensorFlow 2 quickstart for experts - danmalowanysMBP with learning_rate=0.01370 batch_size=13\" status is \"in_progress\"\n",
      "8 tasks are in status \"completed\"\n",
      "Current tasks status:\n",
      "Task \"TensorFlow 2 quickstart for experts - danmalowanysMBP with learning_rate=0.01370 batch_size=13\" status is \"in_progress\"\n",
      "8 tasks are in status \"completed\"\n",
      "Current tasks status:\n",
      "Task \"TensorFlow 2 quickstart for experts - danmalowanysMBP with learning_rate=0.01370 batch_size=13\" status is \"in_progress\"\n",
      "8 tasks are in status \"completed\"\n",
      "Current tasks status:\n",
      "Task \"TensorFlow 2 quickstart for experts - danmalowanysMBP with learning_rate=0.01370 batch_size=13\" status is \"in_progress\"\n",
      "8 tasks are in status \"completed\"\n",
      "Current tasks status:\n",
      "Task \"TensorFlow 2 quickstart for experts - danmalowanysMBP with learning_rate=0.01370 batch_size=13\" status is \"in_progress\"\n",
      "8 tasks are in status \"completed\"\n",
      "Current tasks status:\n",
      "Task \"TensorFlow 2 quickstart for experts - danmalowanysMBP with learning_rate=0.01370 batch_size=13\" status is \"in_progress\"\n",
      "8 tasks are in status \"completed\"\n",
      "Current tasks status:\n",
      "Task \"TensorFlow 2 quickstart for experts - danmalowanysMBP with learning_rate=0.01370 batch_size=13\" status is \"in_progress\"\n",
      "8 tasks are in status \"completed\"\n",
      "Current tasks status:\n",
      "Task \"TensorFlow 2 quickstart for experts - danmalowanysMBP with learning_rate=0.01370 batch_size=13\" status is \"in_progress\"\n",
      "8 tasks are in status \"completed\"\n",
      "Current tasks status:\n",
      "Task \"TensorFlow 2 quickstart for experts - danmalowanysMBP with learning_rate=0.01370 batch_size=13\" status is \"in_progress\"\n",
      "8 tasks are in status \"completed\"\n",
      "Current tasks status:\n",
      "Task \"TensorFlow 2 quickstart for experts - danmalowanysMBP with learning_rate=0.01370 batch_size=13\" status is \"in_progress\"\n",
      "8 tasks are in status \"completed\"\n",
      "Current tasks status:\n",
      "9 tasks are in status \"completed\"\n",
      "\n",
      "Best performing task:\n",
      "task_id fe24523e91194a31bb41d5cd5bd50616\n",
      "result 0.8478000164031982\n",
      "params_values ['13', '0.013703375605946005']\n",
      "params_keys ['batch_size', 'learning_rate']\n"
     ]
    }
   ],
   "source": [
    "# Waiting for tasks to finish and reporting results to main task\n",
    "monitor = TasksMonitor(tasks_to_monitor=tasks_ids, logger=task.get_logger(),\n",
    "                       hyperparameters=artifact.metadata)\n",
    "monitor.wait_for_tasks_to_finish()\n",
    "best_model = monitor.get_best_models(num_models=1)\n",
    "print('\\nBest performing task:')\n",
    "for key, value in best_model[0].items():\n",
    "    print(key, value)"
   ]
  },
  {
   "cell_type": "code",
   "execution_count": null,
   "metadata": {},
   "outputs": [],
   "source": []
  }
 ],
 "metadata": {
  "kernelspec": {
   "display_name": "Python 3",
   "language": "python",
   "name": "python3"
  },
  "language_info": {
   "codemirror_mode": {
    "name": "ipython",
    "version": 3
   },
   "file_extension": ".py",
   "mimetype": "text/x-python",
   "name": "python",
   "nbconvert_exporter": "python",
   "pygments_lexer": "ipython3",
   "version": "3.6.7"
  }
 },
 "nbformat": 4,
 "nbformat_minor": 2
}
